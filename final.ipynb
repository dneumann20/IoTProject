{
 "cells": [
  {
   "cell_type": "code",
   "execution_count": 1,
   "metadata": {},
   "outputs": [],
   "source": [
    "import speech_recognition as sr\n",
    "import pyttsx3\n",
    "import os"
   ]
  },
  {
   "cell_type": "code",
   "execution_count": 2,
   "metadata": {},
   "outputs": [],
   "source": [
    "def takeCommand(): \n",
    "      \n",
    "    r = sr.Recognizer() \n",
    "      \n",
    "    with sr.Microphone() as source: \n",
    "          \n",
    "        print(\"Listening...\") \n",
    "        r.pause_threshold = 1\n",
    "        audio = r.listen(source,phrase_time_limit=5) \n",
    "   \n",
    "    try: \n",
    "        print(\"Recognizing...\")     \n",
    "        query = r.recognize_google(audio, language ='en-in') \n",
    "        print(\"User said: {}\\n\".format(query)) \n",
    "   \n",
    "    except Exception as e: \n",
    "        print(e)     \n",
    "        print(\"Unable to Recognizing your voice.\")   \n",
    "        return \"None\"\n",
    "      \n",
    "    return query\n"
   ]
  },
  {
   "cell_type": "code",
   "execution_count": 8,
   "metadata": {},
   "outputs": [
    {
     "name": "stdout",
     "output_type": "stream",
     "text": [
      "Listening...\n",
      "Recognizing...\n",
      "User said: I want to connect to my Galaxy S8 Plus\n",
      "\n",
      "Listening...\n",
      "Recognizing...\n",
      "\n",
      "Unable to Recognizing your voice.\n",
      "Listening...\n",
      "Recognizing...\n",
      "User said: exit\n",
      "\n"
     ]
    }
   ],
   "source": [
    "engine = pyttsx3.init() \n",
    "voices = engine.getProperty('voices') \n",
    "engine.setProperty('voice', voices[1].id)\n",
    "#engine.say(\"I am Bragi, I can help you with your connection\") \n",
    "#engine.runAndWait()\n",
    "\n",
    "while True:  \n",
    "    query = takeCommand().lower()\n",
    "    if 'exit' in query: \n",
    "        #engine.say(\"Thanks for using Bragi\") \n",
    "        #engine.runAndWait()\n",
    "        break\n",
    "    elif 'connect' in query:\n",
    "        #engine.say(\"I will make the connection for you\") \n",
    "        #engine.runAndWait()\n",
    "        device_q = query.split()\n",
    "        for i in range(len(device_q)):\n",
    "            if (device_q[i]=='connect'):\n",
    "                device=''\n",
    "                for j in range(i+2,len(device_q)):\n",
    "                    device+=device_q[j]\n",
    "                    device+=' '\n",
    "        #output=os.popen(\"perl nom_du_fichier.pl <input>\")"
   ]
  },
  {
   "cell_type": "code",
   "execution_count": null,
   "metadata": {},
   "outputs": [],
   "source": []
  }
 ],
 "metadata": {
  "kernelspec": {
   "display_name": "Python 3",
   "language": "python",
   "name": "python3"
  },
  "language_info": {
   "codemirror_mode": {
    "name": "ipython",
    "version": 3
   },
   "file_extension": ".py",
   "mimetype": "text/x-python",
   "name": "python",
   "nbconvert_exporter": "python",
   "pygments_lexer": "ipython3",
   "version": "3.5.4"
  }
 },
 "nbformat": 4,
 "nbformat_minor": 2
}
